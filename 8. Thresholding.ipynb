{
 "cells": [
  {
   "cell_type": "markdown",
   "metadata": {},
   "source": [
    "# Thresholding\n",
    "It is a popular segmentation technique, used for seperating an object from its background. There are various segmentation techniques. The process involves comparing each pixes of an image with a predefined threshhold value. Dividing into two groups:\n",
    "- having value more than threshold value\n",
    "- having value less than threshold value\n",
    "\n",
    "## Simple Image thresholding\n",
    "`cv2.threshold(src, thresh, maxVal, type, destination=None)`"
   ]
  },
  {
   "cell_type": "code",
   "execution_count": 1,
   "metadata": {},
   "outputs": [],
   "source": [
    "import cv2\n",
    "import numpy as np"
   ]
  },
  {
   "cell_type": "code",
   "execution_count": 16,
   "metadata": {},
   "outputs": [],
   "source": [
    "img = cv2.imread('./Pictures/gradient.png', 0)\n",
    "_, th1 = cv2.threshold(img, 127, 255, cv2.THRESH_BINARY)\n",
    "_, th2 = cv2.threshold(img, 127, 255, cv2.THRESH_BINARY_INV)\n",
    "_, th3 = cv2.threshold(img, 127, 255, cv2.THRESH_TRUNC)\n",
    "_, th4 = cv2.threshold(img, 127, 255, cv2.THRESH_TOZERO)\n",
    "_, th5 = cv2.threshold(img, 127, 255, cv2.THRESH_TOZERO_INV)"
   ]
  },
  {
   "cell_type": "code",
   "execution_count": 17,
   "metadata": {},
   "outputs": [],
   "source": [
    "cv2.imshow('image', img)\n",
    "cv2.imshow('THRESH_BINARY', th1)\n",
    "cv2.imshow('THRESH_BINARY_INV', th2)\n",
    "cv2.imshow('THRESH_TRUNC', th3)\n",
    "cv2.imshow('THRESH_TOZERO', th4)\n",
    "cv2.imshow('THRESH_TOZERO_INV', th5)\n",
    "\n",
    "cv2.waitKey(0)\n",
    "cv2.destroyAllWindows()"
   ]
  },
  {
   "cell_type": "markdown",
   "metadata": {},
   "source": [
    "## Adaptive Thresholding\n",
    "Threshold is calculated for a smaller region, and is not gloabal for every pixel. So therefore, there will be different threshold values for different regions. Gives us better results for images with varying illumination.\n",
    "\n",
    "`cv2.adaptiveThreshold(src, maxVal, adaptiveMethos, type, blockSize, c)`"
   ]
  },
  {
   "cell_type": "code",
   "execution_count": 24,
   "metadata": {},
   "outputs": [],
   "source": [
    "img = cv2.imread('./Pictures/sudoku.png', 0)\n",
    "th1 = cv2.adaptiveThreshold(img, 255, cv2.ADAPTIVE_THRESH_MEAN_C, cv2.THRESH_BINARY, 11, 2)\n",
    "th2 = cv2.adaptiveThreshold(img, 255, cv2.ADAPTIVE_THRESH_GAUSSIAN_C, cv2.THRESH_BINARY, 11, 2)"
   ]
  },
  {
   "cell_type": "code",
   "execution_count": 25,
   "metadata": {},
   "outputs": [],
   "source": [
    "cv2.imshow('image', img)\n",
    "cv2.imshow('ADAPTIVE_THRESH_MEAN_C', th1)\n",
    "cv2.imshow('ADAPTIVE_THRESH_GAUSSIAN_C', th2)\n",
    "\n",
    "cv2.waitKey(0)\n",
    "cv2.destroyAllWindows()"
   ]
  }
 ],
 "metadata": {
  "kernelspec": {
   "display_name": "Python 3",
   "language": "python",
   "name": "python3"
  },
  "language_info": {
   "codemirror_mode": {
    "name": "ipython",
    "version": 3
   },
   "file_extension": ".py",
   "mimetype": "text/x-python",
   "name": "python",
   "nbconvert_exporter": "python",
   "pygments_lexer": "ipython3",
   "version": "3.7.3"
  }
 },
 "nbformat": 4,
 "nbformat_minor": 2
}
