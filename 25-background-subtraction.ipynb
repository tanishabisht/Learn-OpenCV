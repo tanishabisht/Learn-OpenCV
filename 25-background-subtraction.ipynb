{
 "cells": [
  {
   "cell_type": "markdown",
   "metadata": {},
   "source": [
    "# Background Subtraction Techniques"
   ]
  },
  {
   "cell_type": "code",
   "execution_count": 30,
   "metadata": {},
   "outputs": [],
   "source": [
    "import cv2\n",
    "import numpy as np"
   ]
  },
  {
   "cell_type": "code",
   "execution_count": 31,
   "metadata": {},
   "outputs": [],
   "source": [
    "cap = cv2.VideoCapture('./Videos/vtest.avi')\n",
    "fgbgMOG2 = cv2.createBackgroundSubtractorMOG2()\n",
    "fgbgKNN = cv2.createBackgroundSubtractorKNN()"
   ]
  },
  {
   "cell_type": "code",
   "execution_count": 32,
   "metadata": {},
   "outputs": [],
   "source": [
    "while True:\n",
    "    ret,frame = cap.read()\n",
    "    if frame is None:\n",
    "        break\n",
    "        \n",
    "     \n",
    "    # getting the foreground mask\n",
    "    fgmaskMOG2 = fgbgMOG2.apply(frame)\n",
    "    fgmaskKNN = fgbgKNN.apply(frame)\n",
    "    \n",
    "        \n",
    "    # show the windows\n",
    "    cv2.imshow('frame', frame)\n",
    "    cv2.imshow('FG mask MOG2 frame', fgmaskMOG2)\n",
    "    cv2.imshow('FG mask KNN frame', fgmaskKNN)\n",
    "\n",
    "    \n",
    "    # exiting the window\n",
    "    if cv2.waitKey(30) & 0xFF==ord('q'):\n",
    "        break\n",
    "\n",
    "cap.release()\n",
    "cv2.destroyAllWindows()"
   ]
  }
 ],
 "metadata": {
  "kernelspec": {
   "display_name": "Python 3",
   "language": "python",
   "name": "python3"
  },
  "language_info": {
   "codemirror_mode": {
    "name": "ipython",
    "version": 3
   },
   "file_extension": ".py",
   "mimetype": "text/x-python",
   "name": "python",
   "nbconvert_exporter": "python",
   "pygments_lexer": "ipython3",
   "version": "3.7.3"
  }
 },
 "nbformat": 4,
 "nbformat_minor": 2
}
