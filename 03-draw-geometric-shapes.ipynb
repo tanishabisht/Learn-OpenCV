{
 "cells": [
  {
   "cell_type": "code",
   "execution_count": 34,
   "metadata": {},
   "outputs": [],
   "source": [
    "import cv2\n",
    "img = cv2.imread('./Pictures/lena.jpg')"
   ]
  },
  {
   "cell_type": "markdown",
   "metadata": {},
   "source": [
    "## Creating image with numpy"
   ]
  },
  {
   "cell_type": "code",
   "execution_count": 30,
   "metadata": {},
   "outputs": [],
   "source": [
    "import numpy as np\n",
    "\n",
    "# going to give an image of 512 by 512\n",
    "img = np.zeros([512, 512, 3], np.uint8)"
   ]
  },
  {
   "cell_type": "markdown",
   "metadata": {},
   "source": [
    "## Drawing Lines\n",
    "- cv2.line(img, pt1, pt2, colorBGR, thickness)\n",
    "- cv2.rectangle(img, TL_pt1, BR_pt2, colorBGR, thickness)\n",
    "- cv2.circle(img, center, radius, colorBGR, thickness)"
   ]
  },
  {
   "cell_type": "code",
   "execution_count": 35,
   "metadata": {},
   "outputs": [],
   "source": [
    "img = cv2.line(img, (0,0), (255,255), (0,255,0), 4)\n",
    "img = cv2.arrowedLine(img, (0,255), (255,255), (0,0,255), 3)\n",
    "img = cv2.rectangle(img, (384,0), (510,128), (255,0,0), -1)\n",
    "img = cv2.circle(img, (447,63), 63, (133,169,252), -1)"
   ]
  },
  {
   "cell_type": "markdown",
   "metadata": {},
   "source": [
    "## To put some text in the image\n",
    "cv2.putText(img, textToAdd, startPtOfText, font, fontSize, color, thickness, lineType)"
   ]
  },
  {
   "cell_type": "code",
   "execution_count": 36,
   "metadata": {},
   "outputs": [],
   "source": [
    "font = cv2.FONT_HERSHEY_SIMPLEX\n",
    "lineType = cv2.LINE_AA\n",
    "img = cv2.putText(img, 'OpenCV', (10,500), font, 4, (255,255,255), 10, lineType)"
   ]
  },
  {
   "cell_type": "code",
   "execution_count": 37,
   "metadata": {},
   "outputs": [],
   "source": [
    "# Show image\n",
    "cv2.imshow('image with line', img)\n",
    "cv2.waitKey(0)\n",
    "cv2.destroyAllWindows()"
   ]
  }
 ],
 "metadata": {
  "kernelspec": {
   "display_name": "Python 3",
   "language": "python",
   "name": "python3"
  },
  "language_info": {
   "codemirror_mode": {
    "name": "ipython",
    "version": 3
   },
   "file_extension": ".py",
   "mimetype": "text/x-python",
   "name": "python",
   "nbconvert_exporter": "python",
   "pygments_lexer": "ipython3",
   "version": "3.7.3"
  }
 },
 "nbformat": 4,
 "nbformat_minor": 2
}
