{
 "cells": [
  {
   "cell_type": "markdown",
   "metadata": {},
   "source": [
    "# Template Matching\n",
    "is the method of searching and finding location of a template image, inside a larger template"
   ]
  },
  {
   "cell_type": "code",
   "execution_count": 1,
   "metadata": {},
   "outputs": [],
   "source": [
    "import cv2\n",
    "import numpy as np"
   ]
  },
  {
   "cell_type": "code",
   "execution_count": 23,
   "metadata": {},
   "outputs": [],
   "source": [
    "# importing image and converting it to grayscale\n",
    "messi = cv2.imread('./Pictures/messi5.jpg')\n",
    "gray_messi = cv2.cvtColor(messi, cv2.COLOR_BGR2GRAY)\n",
    "\n",
    "# importing template in grayscale\n",
    "face = cv2.imread('./Pictures/messi5-face.JPG', 0)\n",
    "w,h = face.shape[::-1]"
   ]
  },
  {
   "cell_type": "code",
   "execution_count": 20,
   "metadata": {},
   "outputs": [
    {
     "name": "stdout",
     "output_type": "stream",
     "text": [
      "(array([54], dtype=int64), array([198], dtype=int64))\n"
     ]
    }
   ],
   "source": [
    "# get intensity diff of the img and template\n",
    "res = cv2.matchTemplate(gray_messi, face, cv2.TM_CCOEFF_NORMED)\n",
    "\n",
    "# find the point where the intesntity diff is the maximum\n",
    "# this is the point where template could be a part of the image\n",
    "threshold = 0.513\n",
    "loc = np.where(res >= threshold)\n",
    "print(loc)"
   ]
  },
  {
   "cell_type": "code",
   "execution_count": 24,
   "metadata": {},
   "outputs": [],
   "source": [
    "# draw a rectangle around all the templates\n",
    "for pt in zip(*loc[::-1]):\n",
    "    cv2.rectangle(messi, pt, (pt[0]+w, pt[1]+h), (0,0,255), 2)"
   ]
  },
  {
   "cell_type": "code",
   "execution_count": 26,
   "metadata": {},
   "outputs": [],
   "source": [
    "cv2.imshow('messi', messi)\n",
    "cv2.imshow('messi face', face)\n",
    "\n",
    "cv2.waitKey(0)\n",
    "cv2.destroyAllWindows()"
   ]
  }
 ],
 "metadata": {
  "kernelspec": {
   "display_name": "Python 3",
   "language": "python",
   "name": "python3"
  },
  "language_info": {
   "codemirror_mode": {
    "name": "ipython",
    "version": 3
   },
   "file_extension": ".py",
   "mimetype": "text/x-python",
   "name": "python",
   "nbconvert_exporter": "python",
   "pygments_lexer": "ipython3",
   "version": "3.7.3"
  }
 },
 "nbformat": 4,
 "nbformat_minor": 2
}
