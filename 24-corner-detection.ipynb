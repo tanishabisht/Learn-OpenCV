{
 "cells": [
  {
   "cell_type": "markdown",
   "metadata": {},
   "source": [
    "# DETECTING CORNERS\n",
    "\n",
    "## Harris Corner Detector\n",
    "**Corner:** is the region in the image with large variation in intensity in all directions.\n",
    "\n",
    "1. determine which windows produce very large variations in intensity when moved in both X and Y directions\n",
    "2. With each such window found, a score R is computed\n",
    "3. After applying a threshold to this score, important corners are selected and marked."
   ]
  },
  {
   "cell_type": "code",
   "execution_count": 15,
   "metadata": {},
   "outputs": [],
   "source": [
    "import cv2\n",
    "import numpy as np"
   ]
  },
  {
   "cell_type": "code",
   "execution_count": 16,
   "metadata": {},
   "outputs": [],
   "source": [
    "img = cv2.imread('./Pictures/pic1.png')\n",
    "\n",
    "# cv2.cornerHarris() function takes the src in grayscale float32 format\n",
    "gray = cv2.cvtColor(img, cv2.COLOR_BGR2GRAY)\n",
    "gray = np.float32(gray)"
   ]
  },
  {
   "cell_type": "markdown",
   "metadata": {},
   "source": [
    "### cv2.cornerHarris(src, blockSize, ksize, k)\n",
    "- *src:* should be in grayscale float32 format\n",
    "- *blockSize:* size of the window\n",
    "- *ksize:* Aperture parameter of Sobel derevative used\n",
    "- *k:* Harris detector free parameter in the equation"
   ]
  },
  {
   "cell_type": "code",
   "execution_count": 17,
   "metadata": {},
   "outputs": [],
   "source": [
    "# Step 1,2\n",
    "# apply the Harris corner detector method\n",
    "dst = cv2.cornerHarris(gray, 2, 3, 0.04)\n",
    "\n",
    "# dilate the harris corner detected image\n",
    "dst = cv2.dilate(dst, None)"
   ]
  },
  {
   "cell_type": "code",
   "execution_count": 18,
   "metadata": {},
   "outputs": [],
   "source": [
    "# Step 3: Applying the threshold value\n",
    "img[dst > 0.01 * dst.max()] = [0,255,0]"
   ]
  },
  {
   "cell_type": "code",
   "execution_count": 19,
   "metadata": {},
   "outputs": [],
   "source": [
    "cv2.imshow('HARRIS CORNER DETECTOR', img)\n",
    "\n",
    "cv2.waitKey(0)\n",
    "cv2.destroyAllWindows()"
   ]
  },
  {
   "cell_type": "markdown",
   "metadata": {},
   "source": [
    "## Shi Tomasi Corner Detector\n",
    "The formula used to calculate R value differs from Harris corner detection technique."
   ]
  },
  {
   "cell_type": "code",
   "execution_count": 21,
   "metadata": {},
   "outputs": [],
   "source": [
    "import cv2\n",
    "import numpy as np"
   ]
  },
  {
   "cell_type": "code",
   "execution_count": 22,
   "metadata": {},
   "outputs": [],
   "source": [
    "img2 = cv2.imread('./Pictures/pic1.png')\n",
    "\n",
    "# cv2.goodFeaturesToTrack() function takes the src in grayscale\n",
    "gray = cv2.cvtColor(img2, cv2.COLOR_BGR2GRAY)"
   ]
  },
  {
   "cell_type": "markdown",
   "metadata": {},
   "source": [
    "### cv2.goodFeaturesToTrack(src, maxNoCorners, qualityLevel, minDist)\n",
    "- *src:* should be in grayscale\n",
    "- *maxNoCorners:* max number of corners that can be detected\n",
    "- *qualityLevel:* Min expected quality of the image corner\n",
    "- *minDist:* minimum possible eucladian distance between the returned corners"
   ]
  },
  {
   "cell_type": "code",
   "execution_count": 23,
   "metadata": {},
   "outputs": [],
   "source": [
    "# apply the Shi Tomasi corner detector method\n",
    "corners = cv2.goodFeaturesToTrack(gray, 25, 0.01, 10)\n",
    "\n",
    "# convert the corners to integer value\n",
    "corners = np.int64(corners)"
   ]
  },
  {
   "cell_type": "code",
   "execution_count": 24,
   "metadata": {},
   "outputs": [],
   "source": [
    "for corner in corners:\n",
    "    x,y = corner.ravel()\n",
    "    cv2.circle(img2, (x,y), 3, 255, -1)"
   ]
  },
  {
   "cell_type": "code",
   "execution_count": 25,
   "metadata": {},
   "outputs": [],
   "source": [
    "cv2.imshow('SHI TOMSI CORNER DETECTOR', img2)\n",
    "cv2.waitKey(0)\n",
    "cv2.destroyAllWindows()"
   ]
  }
 ],
 "metadata": {
  "kernelspec": {
   "display_name": "Python 3",
   "language": "python",
   "name": "python3"
  },
  "language_info": {
   "codemirror_mode": {
    "name": "ipython",
    "version": 3
   },
   "file_extension": ".py",
   "mimetype": "text/x-python",
   "name": "python",
   "nbconvert_exporter": "python",
   "pygments_lexer": "ipython3",
   "version": "3.7.3"
  }
 },
 "nbformat": 4,
 "nbformat_minor": 2
}
