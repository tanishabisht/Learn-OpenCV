{
 "cells": [
  {
   "cell_type": "code",
   "execution_count": 8,
   "metadata": {},
   "outputs": [],
   "source": [
    "import cv2"
   ]
  },
  {
   "cell_type": "markdown",
   "metadata": {},
   "source": [
    "## cv2.VideoCapture(index/inputVideoFilePath)"
   ]
  },
  {
   "cell_type": "code",
   "execution_count": 9,
   "metadata": {},
   "outputs": [
    {
     "name": "stdout",
     "output_type": "stream",
     "text": [
      "<VideoCapture 000001FF8A2BBA70>\n"
     ]
    }
   ],
   "source": [
    "cap = cv2.VideoCapture(0)\n",
    "print(cap)"
   ]
  },
  {
   "cell_type": "code",
   "execution_count": 10,
   "metadata": {},
   "outputs": [
    {
     "name": "stdout",
     "output_type": "stream",
     "text": [
      "640.0\n",
      "1280.0\n"
     ]
    }
   ],
   "source": [
    "# cv2.CAP_PROP_FRAME_WIDTH => 3\n",
    "print(cap.get(cv2.CAP_PROP_FRAME_WIDTH))\n",
    "cap.set(3, 1208)\n",
    "print(cap.get(3))"
   ]
  },
  {
   "cell_type": "markdown",
   "metadata": {},
   "source": [
    "## ret, frame = capObj.read()\n",
    "- **ret:** returns boolean if the frame is available or not\n",
    "- **frame:** frame is saved in this variable\n",
    "\n",
    "**To check if the index/inputVideoFilePath is entered correctly or not:**<br/>\n",
    "`cap.isOpened()`\n",
    "\n",
    "**To convert the color of the frame:** <br/>\n",
    "`cv2.cvtColor(frame, cv2.COLOR_BGR2GRAY)`\n",
    "\n",
    "# Reading the property of my frame\n",
    "You can get some properties on your frame with the following syntax<br/>\n",
    "`cap.get(propertyName)`\n",
    "\n",
    "propertyName has its corresponding integer values.\n",
    "- cv2.CAP_PROP_FRAME_WIDTH => 3\n",
    "- cv2.CAP_PROP_FRAME_HEIGHT => 4\n",
    "\n",
    "We can set our own values for propertyName<br/>\n",
    "`cap.set(propertyName, propertyValue)`\n",
    "\n",
    "For more such properties you could refer [this doc](https://docs.opencv.org/3.4/d4/d15/group__videoio__flags__base.html)"
   ]
  },
  {
   "cell_type": "code",
   "execution_count": 11,
   "metadata": {},
   "outputs": [],
   "source": [
    "while(True):\n",
    "    ret, frame = cap.read()\n",
    "    gray = cv2.cvtColor(frame, cv2.COLOR_BGR2GRAY)\n",
    "    cv2.imshow('VideoCaptureFrame', gray)\n",
    "    if cv2.waitKey(1) & 0xFF==ord('q'):\n",
    "        break\n",
    "cap.release()\n",
    "cv2.destroyAllWindows()"
   ]
  },
  {
   "cell_type": "markdown",
   "metadata": {},
   "source": [
    "## cv2.VideoWriter(outputVideoFilePath, 4ccCode, fps, sizeOfVideo)\n",
    "\n",
    "[FOURCC Code](https://www.fourcc.org/codecs.php) is short for four character code. It is an identifier for a video codec, compression format, color or pixel format used in media files"
   ]
  },
  {
   "cell_type": "code",
   "execution_count": 16,
   "metadata": {},
   "outputs": [],
   "source": [
    "cap = cv2.VideoCapture(0)\n",
    "\n",
    "fourcc = cv2.VideoWriter_fourcc(*'XVID')\n",
    "out = cv2.VideoWriter('./Videos/myVideo.avi', fourcc, 20.0, (640,480))"
   ]
  },
  {
   "cell_type": "code",
   "execution_count": 17,
   "metadata": {},
   "outputs": [],
   "source": [
    "while(True):\n",
    "    ret, frame = cap.read()\n",
    "    if ret==True:\n",
    "        out.write(frame) #write this frame to a file\n",
    "        cv2.imshow('frame', frame)\n",
    "        if cv2.waitKey(1) & 0xFF==ord('q'):\n",
    "            break\n",
    "    else:\n",
    "        break\n",
    "out.release() #to turn off the webcam\n",
    "cap.release()\n",
    "cv2.destroyAllWindows()"
   ]
  }
 ],
 "metadata": {
  "kernelspec": {
   "display_name": "Python 3",
   "language": "python",
   "name": "python3"
  },
  "language_info": {
   "codemirror_mode": {
    "name": "ipython",
    "version": 3
   },
   "file_extension": ".py",
   "mimetype": "text/x-python",
   "name": "python",
   "nbconvert_exporter": "python",
   "pygments_lexer": "ipython3",
   "version": "3.7.3"
  }
 },
 "nbformat": 4,
 "nbformat_minor": 2
}
