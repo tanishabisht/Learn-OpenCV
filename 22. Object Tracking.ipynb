{
 "cells": [
  {
   "cell_type": "markdown",
   "metadata": {},
   "source": [
    "# Object Tracking\n",
    "Is the process of locating a moving object over a period of time.\n",
    "\n",
    "### Mean Shift Method\n",
    "1. Pass initial position of our target object and histogram bad projected image to the **mean shift function**\n",
    "2. As the object moves the histogram bad projected image also changes\n",
    "3. **mean shift function** moves the window to new location with max probablity density\n",
    "\n",
    "**DRAWBACKS**\n",
    "- The size of the window doesnt alter acc to the size of the object\n",
    "- if the initial position of the object is not known this method cant be used\n",
    "\n",
    "### Camshift Method (Continuously Adoptive Meanshift Method)\n",
    "Here the rectangle size continuously changes accoring to the object"
   ]
  },
  {
   "cell_type": "code",
   "execution_count": 1,
   "metadata": {},
   "outputs": [],
   "source": [
    "import cv2\n",
    "import numpy as np"
   ]
  },
  {
   "cell_type": "code",
   "execution_count": 2,
   "metadata": {},
   "outputs": [],
   "source": [
    "cap = cv2.VideoCapture('./Videos/vtest.avi')\n",
    "ret,frame = cap.read()"
   ]
  },
  {
   "cell_type": "code",
   "execution_count": 3,
   "metadata": {},
   "outputs": [],
   "source": [
    "# set the initial location of target window\n",
    "x,y,w,h = 250, 220, 40, 90\n",
    "track_window = (x,y,w,h)"
   ]
  },
  {
   "cell_type": "markdown",
   "metadata": {},
   "source": [
    "**Histogram back projection**\n",
    "Creates an img of the same size but of a single channel as of our imput image, where each pixel corresponds to the probablity of that pixel belonging to our object"
   ]
  },
  {
   "cell_type": "code",
   "execution_count": 4,
   "metadata": {},
   "outputs": [],
   "source": [
    "# set roi for tracking\n",
    "roi = frame[y:y+h, x:x+w]\n",
    "\n",
    "# histogram back projected image\n",
    "hsv_roi = cv2.cvtColor(roi, cv2.COLOR_BGR2HSV)\n",
    "mask = cv2.inRange(hsv_roi, np.array((0.,60.,32.)), np.array((180.,255.,255.)))\n",
    "roi_hist = cv2.calcHist([hsv_roi], [0], mask, [180], [0,180])\n",
    "roi_hist = cv2.normalize(roi_hist, roi_hist, 0, 255, cv2.NORM_MINMAX)"
   ]
  },
  {
   "cell_type": "code",
   "execution_count": 5,
   "metadata": {},
   "outputs": [],
   "source": [
    "# Set up the termination criteria\n",
    "# either 10 iterations or move by at least 1 pt\n",
    "term_criteria = (cv2.TERM_CRITERIA_EPS | cv2.TERM_CRITERIA_COUNT, 10, 1)"
   ]
  },
  {
   "cell_type": "code",
   "execution_count": 6,
   "metadata": {},
   "outputs": [],
   "source": [
    "while True:\n",
    "    ret, frame = cap.read()\n",
    "    if ret == True:\n",
    "        hsv = cv2.cvtColor(frame, cv2.COLOR_BGR2HSV)\n",
    "        \n",
    "        \n",
    "        # find the new hist back projected image\n",
    "        dst = cv2.calcBackProject([hsv], [0], roi_hist, [0,180], 1)\n",
    "        \n",
    "        \n",
    "        # apply mean shift to get the new location\n",
    "        # ret,track_window = cv2.meanShift(dst, track_window, term_criteria)\n",
    "        \n",
    "        # apply cam shift method\n",
    "        ret,track_window = cv2.CamShift(dst, track_window, term_criteria)\n",
    "\n",
    "        \n",
    "        # draw it on image\n",
    "        x,y,w,h = track_window\n",
    "        finalImg = cv2.rectangle(frame, (x,y), (x+w,y+h), 255, 3)\n",
    "        \n",
    "        \n",
    "        cv2.imshow('frame', frame)        \n",
    "        cv2.imshow('final image', finalImg)\n",
    "        cv2.imshow('back projected image', dst)\n",
    "        if cv2.waitKey(30) & 0xFF == ord('q'):\n",
    "            break\n",
    "            \n",
    "cap.release()\n",
    "cv2.destroyAllWindows()            "
   ]
  }
 ],
 "metadata": {
  "kernelspec": {
   "display_name": "Python 3",
   "language": "python",
   "name": "python3"
  },
  "language_info": {
   "codemirror_mode": {
    "name": "ipython",
    "version": 3
   },
   "file_extension": ".py",
   "mimetype": "text/x-python",
   "name": "python",
   "nbconvert_exporter": "python",
   "pygments_lexer": "ipython3",
   "version": "3.7.3"
  }
 },
 "nbformat": 4,
 "nbformat_minor": 2
}
