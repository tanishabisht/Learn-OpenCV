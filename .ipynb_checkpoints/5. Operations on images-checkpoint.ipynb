{
 "cells": [
  {
   "cell_type": "markdown",
   "metadata": {},
   "source": [
    "# Operations on images"
   ]
  },
  {
   "cell_type": "code",
   "execution_count": 1,
   "metadata": {},
   "outputs": [],
   "source": [
    "import cv2\n",
    "import numpy as np"
   ]
  },
  {
   "cell_type": "code",
   "execution_count": 21,
   "metadata": {},
   "outputs": [],
   "source": [
    "img = cv2.imread('./Pictures/messi5.jpg')\n",
    "img2 = cv2.imread('./Pictures/opencv-logo.png')"
   ]
  },
  {
   "cell_type": "markdown",
   "metadata": {},
   "source": [
    "## Copy part of an image"
   ]
  },
  {
   "cell_type": "code",
   "execution_count": 22,
   "metadata": {},
   "outputs": [],
   "source": [
    "# Copy part of an image\n",
    "ball = img[280:340, 330:390]\n",
    "cv2.imshow('ball', ball)\n",
    "cv2.waitKey(0)\n",
    "cv2.destroyAllWindows()"
   ]
  },
  {
   "cell_type": "markdown",
   "metadata": {},
   "source": [
    "## Paste an image on another"
   ]
  },
  {
   "cell_type": "code",
   "execution_count": 23,
   "metadata": {},
   "outputs": [],
   "source": [
    "img[272:332, 100:160] = ball\n",
    "cv2.imshow('ball pasted', img)\n",
    "cv2.waitKey(0)\n",
    "cv2.destroyAllWindows()"
   ]
  },
  {
   "cell_type": "markdown",
   "metadata": {},
   "source": [
    "## Add 2 images"
   ]
  },
  {
   "cell_type": "code",
   "execution_count": 24,
   "metadata": {},
   "outputs": [],
   "source": [
    "# NOTE: Sizes of the two images should be same\n",
    "\n",
    "img = cv2.resize(img, (512,512))\n",
    "img2 = cv2.resize(img2, (512,512))\n",
    "\n",
    "addedImg = cv2.add(img, img2)\n",
    "cv2.imshow('added two images', addedImg)\n",
    "cv2.waitKey(0)\n",
    "cv2.destroyAllWindows()"
   ]
  },
  {
   "cell_type": "code",
   "execution_count": 31,
   "metadata": {},
   "outputs": [],
   "source": [
    "# If we want to adjust the percentage of each image\n",
    "# cv2.addWeighted(src1, alpha, src2, beta, gamma)\n",
    "# alpha : percentage of src1\n",
    "# beta : percentage of src2\n",
    "# gamma : constant number to add in every element of matrix\n",
    "# alpha + beta = 1\n",
    "\n",
    "img = cv2.resize(img, (512,512))\n",
    "img2 = cv2.resize(img2, (512,512))\n",
    "\n",
    "addedImg = cv2.addWeighted(img, 0.4, img2, 0.6, 0)\n",
    "cv2.imshow('added two images', addedImg)\n",
    "cv2.waitKey(0)\n",
    "cv2.destroyAllWindows()"
   ]
  },
  {
   "cell_type": "markdown",
   "metadata": {},
   "source": [
    "## Bitwise operation\n",
    "**Masks:** binary images that indicates pixels inwhich operation is to be performed"
   ]
  },
  {
   "cell_type": "code",
   "execution_count": 9,
   "metadata": {},
   "outputs": [],
   "source": [
    "img1 = np.zeros((250,500,3), np.uint8)\n",
    "img1 = cv2.rectangle(img1, (200,0), (300,100), (255,255,255), -1)\n",
    "\n",
    "img2 = cv2.imread('./Pictures/chessboard.png')\n",
    "img2 = cv2.resize(img2, (500,250))\n",
    "\n",
    "cv2.imshow('img2', img2)\n",
    "cv2.imshow('img1', img1)\n",
    "\n",
    "cv2.waitKey(0)\n",
    "cv2.destroyAllWindows()"
   ]
  },
  {
   "cell_type": "code",
   "execution_count": 10,
   "metadata": {},
   "outputs": [],
   "source": [
    "and_img = cv2.bitwise_and(img1, img2)\n",
    "or_img = cv2.bitwise_or(img1, img2)\n",
    "xor_img = cv2.bitwise_xor(img1, img2)\n",
    "not_img = cv2.bitwise_not(img1)"
   ]
  },
  {
   "cell_type": "code",
   "execution_count": 11,
   "metadata": {},
   "outputs": [],
   "source": [
    "cv2.imshow('and', and_img)\n",
    "cv2.imshow('or', or_img)\n",
    "cv2.imshow('xor', xor_img)\n",
    "cv2.imshow('not', not_img)\n",
    "\n",
    "cv2.waitKey(0)\n",
    "cv2.destroyAllWindows()"
   ]
  }
 ],
 "metadata": {
  "kernelspec": {
   "display_name": "Python 3",
   "language": "python",
   "name": "python3"
  },
  "language_info": {
   "codemirror_mode": {
    "name": "ipython",
    "version": 3
   },
   "file_extension": ".py",
   "mimetype": "text/x-python",
   "name": "python",
   "nbconvert_exporter": "python",
   "pygments_lexer": "ipython3",
   "version": "3.7.3"
  }
 },
 "nbformat": 4,
 "nbformat_minor": 2
}
