{
 "cells": [
  {
   "cell_type": "markdown",
   "metadata": {},
   "source": [
    "# Contours"
   ]
  },
  {
   "cell_type": "code",
   "execution_count": 33,
   "metadata": {},
   "outputs": [],
   "source": [
    "import cv2\n",
    "import numpy as np"
   ]
  },
  {
   "cell_type": "code",
   "execution_count": 39,
   "metadata": {},
   "outputs": [],
   "source": [
    "img = cv2.imread('./Pictures/opencv-logo.png')\n",
    "imgray = cv2.cvtColor(img, cv2.COLOR_BGR2GRAY)\n",
    "ret,thresh = cv2.threshold(imgray, 127, 255, 0)"
   ]
  },
  {
   "cell_type": "code",
   "execution_count": 44,
   "metadata": {},
   "outputs": [
    {
     "name": "stdout",
     "output_type": "stream",
     "text": [
      "3\n"
     ]
    }
   ],
   "source": [
    "contours = cv2.findContours(thresh.copy(), cv2.RETR_TREE, cv2.CHAIN_APPROX_NONE)\n",
    "contours = np.asarray(contours)\n",
    "print(str(len(countours)))"
   ]
  },
  {
   "cell_type": "code",
   "execution_count": 51,
   "metadata": {},
   "outputs": [
    {
     "name": "stdout",
     "output_type": "stream",
     "text": [
      "[array([[0, 0, 0, ..., 0, 0, 0],\n",
      "       [0, 0, 0, ..., 0, 0, 0],\n",
      "       [0, 0, 0, ..., 0, 0, 0],\n",
      "       ...,\n",
      "       [0, 0, 0, ..., 0, 0, 0],\n",
      "       [0, 0, 0, ..., 0, 0, 0],\n",
      "       [0, 0, 0, ..., 0, 0, 0]], dtype=uint8)\n",
      " list([array([[[479, 466]]], dtype=int32), array([[[485, 463]]], dtype=int32), array([[[593, 460]]], dtype=int32), array([[[314, 436]]], dtype=int32), array([[[511, 430]]], dtype=int32), array([[[502, 333]]], dtype=int32), array([[[346, 320]]], dtype=int32), array([[[396, 309]]], dtype=int32), array([[[550, 302]]], dtype=int32), array([[[129, 269]],\n",
      "\n",
      "       [[128, 270]],\n",
      "\n",
      "       [[127, 270]],\n",
      "\n",
      "       ...,\n",
      "\n",
      "       [[132, 269]],\n",
      "\n",
      "       [[131, 269]],\n",
      "\n",
      "       [[130, 269]]], dtype=int32), array([[[ 81, 544]],\n",
      "\n",
      "       [[ 82, 543]],\n",
      "\n",
      "       [[ 83, 544]],\n",
      "\n",
      "       [[ 82, 545]]], dtype=int32), array([[[ 25, 329]],\n",
      "\n",
      "       [[ 26, 328]],\n",
      "\n",
      "       [[ 27, 329]],\n",
      "\n",
      "       [[ 26, 330]]], dtype=int32), array([[[ 53, 300]],\n",
      "\n",
      "       [[ 54, 299]],\n",
      "\n",
      "       [[ 55, 300]],\n",
      "\n",
      "       [[ 54, 301]]], dtype=int32), array([[[441, 149]],\n",
      "\n",
      "       [[441, 150]]], dtype=int32), array([[[441, 135]]], dtype=int32), array([[[437, 108]]], dtype=int32), array([[[274,  91]]], dtype=int32), array([[[163,  88]]], dtype=int32), array([[[206,  31]]], dtype=int32)])\n",
      " array([[[ 1, -1, -1, -1],\n",
      "        [ 2,  0, -1, -1],\n",
      "        [ 3,  1, -1, -1],\n",
      "        [ 4,  2, -1, -1],\n",
      "        [ 5,  3, -1, -1],\n",
      "        [ 6,  4, -1, -1],\n",
      "        [ 7,  5, -1, -1],\n",
      "        [ 8,  6, -1, -1],\n",
      "        [ 9,  7, -1, -1],\n",
      "        [13,  8, 10, -1],\n",
      "        [11, -1, -1,  9],\n",
      "        [12, 10, -1,  9],\n",
      "        [-1, 11, -1,  9],\n",
      "        [14,  9, -1, -1],\n",
      "        [15, 13, -1, -1],\n",
      "        [16, 14, -1, -1],\n",
      "        [17, 15, -1, -1],\n",
      "        [18, 16, -1, -1],\n",
      "        [-1, 17, -1, -1]]], dtype=int32)]\n"
     ]
    }
   ],
   "source": [
    "print(contours)"
   ]
  },
  {
   "cell_type": "code",
   "execution_count": 49,
   "metadata": {},
   "outputs": [
    {
     "ename": "TypeError",
     "evalue": "contours is not a numpy array, neither a scalar",
     "output_type": "error",
     "traceback": [
      "\u001b[1;31m---------------------------------------------------------------------------\u001b[0m",
      "\u001b[1;31mTypeError\u001b[0m                                 Traceback (most recent call last)",
      "\u001b[1;32m<ipython-input-49-4c0a0368ae49>\u001b[0m in \u001b[0;36m<module>\u001b[1;34m\u001b[0m\n\u001b[1;32m----> 1\u001b[1;33m \u001b[0mcv2\u001b[0m\u001b[1;33m.\u001b[0m\u001b[0mdrawContours\u001b[0m\u001b[1;33m(\u001b[0m\u001b[0mimg\u001b[0m\u001b[1;33m,\u001b[0m \u001b[0mcontours\u001b[0m\u001b[1;33m,\u001b[0m \u001b[1;33m-\u001b[0m\u001b[1;36m1\u001b[0m\u001b[1;33m,\u001b[0m \u001b[1;33m(\u001b[0m\u001b[1;36m0\u001b[0m\u001b[1;33m,\u001b[0m\u001b[1;36m55\u001b[0m\u001b[1;33m,\u001b[0m\u001b[1;36m55\u001b[0m\u001b[1;33m)\u001b[0m\u001b[1;33m,\u001b[0m \u001b[1;36m3\u001b[0m\u001b[1;33m)\u001b[0m\u001b[1;33m\u001b[0m\u001b[1;33m\u001b[0m\u001b[0m\n\u001b[0m",
      "\u001b[1;31mTypeError\u001b[0m: contours is not a numpy array, neither a scalar"
     ]
    }
   ],
   "source": [
    "cv2.drawContours(img, contours, -1, (0,55,55), 3)"
   ]
  },
  {
   "cell_type": "code",
   "execution_count": 50,
   "metadata": {},
   "outputs": [],
   "source": [
    "cv2.imshow('image', img)\n",
    "cv2.imshow('gray image', imgray)\n",
    "\n",
    "cv2.waitKey(0)\n",
    "cv2.destroyAllWindows()"
   ]
  }
 ],
 "metadata": {
  "kernelspec": {
   "display_name": "Python 3",
   "language": "python",
   "name": "python3"
  },
  "language_info": {
   "codemirror_mode": {
    "name": "ipython",
    "version": 3
   },
   "file_extension": ".py",
   "mimetype": "text/x-python",
   "name": "python",
   "nbconvert_exporter": "python",
   "pygments_lexer": "ipython3",
   "version": "3.7.3"
  }
 },
 "nbformat": 4,
 "nbformat_minor": 2
}
