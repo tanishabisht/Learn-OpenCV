{
 "cells": [
  {
   "cell_type": "markdown",
   "metadata": {},
   "source": [
    "# Handling Mouse Events\n",
    "\n",
    "## Excercise 2\n",
    "On left mouse click display the x,y coordinated at that point. And on right mouse click display the b,g,r value at that point."
   ]
  },
  {
   "cell_type": "code",
   "execution_count": 10,
   "metadata": {},
   "outputs": [],
   "source": [
    "import numpy as np\n",
    "import cv2"
   ]
  },
  {
   "cell_type": "code",
   "execution_count": 2,
   "metadata": {},
   "outputs": [
    {
     "name": "stdout",
     "output_type": "stream",
     "text": [
      "['EVENT_FLAG_ALTKEY', 'EVENT_FLAG_CTRLKEY', 'EVENT_FLAG_LBUTTON', 'EVENT_FLAG_MBUTTON', 'EVENT_FLAG_RBUTTON', 'EVENT_FLAG_SHIFTKEY', 'EVENT_LBUTTONDBLCLK', 'EVENT_LBUTTONDOWN', 'EVENT_LBUTTONUP', 'EVENT_MBUTTONDBLCLK', 'EVENT_MBUTTONDOWN', 'EVENT_MBUTTONUP', 'EVENT_MOUSEHWHEEL', 'EVENT_MOUSEMOVE', 'EVENT_MOUSEWHEEL', 'EVENT_RBUTTONDBLCLK', 'EVENT_RBUTTONDOWN', 'EVENT_RBUTTONUP']\n"
     ]
    }
   ],
   "source": [
    "# printing all the events in our cv2 library\n",
    "events = [i for i in dir(cv2) if 'EVENT' in i]\n",
    "print(events)"
   ]
  },
  {
   "cell_type": "markdown",
   "metadata": {},
   "source": [
    "# Defining our call back function"
   ]
  },
  {
   "cell_type": "code",
   "execution_count": 14,
   "metadata": {},
   "outputs": [],
   "source": [
    "def click_event(e, x, y, flags, param):\n",
    "    if e == cv2.EVENT_LBUTTONDOWN:\n",
    "        strXY = str(x)+' '+str(y)\n",
    "        print(strXY)\n",
    "        font = cv2.FONT_HERSHEY_SIMPLEX\n",
    "        lineType = cv2.LINE_AA\n",
    "        cv2.putText(img, strXY, (x,y), font, 1, (255,255,255), 1, lineType)\n",
    "        cv2.imshow('Display x and y coordinates', img)\n",
    "    if e == cv2.EVENT_RBUTTONDOWN:\n",
    "        b = img[y,x,0]\n",
    "        g = img[y,x,1]\n",
    "        r = img[y,x,2]\n",
    "        strBGR = str(r)+' '+str(g)+' '+str(b)\n",
    "        print(strBGR)\n",
    "        font = cv2.FONT_HERSHEY_SIMPLEX\n",
    "        lineType = cv2.LINE_AA\n",
    "        cv2.putText(img, strBGR, (x,y), font, 1, (0,255,255), 1, lineType)\n",
    "        cv2.imshow('Display x and y coordinates', img)"
   ]
  },
  {
   "cell_type": "code",
   "execution_count": 15,
   "metadata": {},
   "outputs": [],
   "source": [
    "#img = np.zeros([512,512,3], np.uint8)\n",
    "img = cv2.imread('./Pictures/lena.jpg')\n",
    "cv2.imshow('Display x and y coordinates', img)"
   ]
  },
  {
   "cell_type": "markdown",
   "metadata": {},
   "source": [
    "## cv2.setMouseCallback(windowName, CBfunction)\n",
    "to call our call-back function i.e. click_event function when anyone clicks on our image"
   ]
  },
  {
   "cell_type": "code",
   "execution_count": 16,
   "metadata": {},
   "outputs": [
    {
     "name": "stdout",
     "output_type": "stream",
     "text": [
      "224 102\n",
      "382 253\n",
      "199 87 85\n",
      "232 141 114\n",
      "87 15 65\n",
      "381 43\n",
      "315 442\n",
      "223 126 109\n"
     ]
    }
   ],
   "source": [
    "cv2.setMouseCallback('Display x and y coordinates', click_event)\n",
    "cv2. waitKey(0)\n",
    "cv2.destroyAllWindows()"
   ]
  }
 ],
 "metadata": {
  "kernelspec": {
   "display_name": "Python 3",
   "language": "python",
   "name": "python3"
  },
  "language_info": {
   "codemirror_mode": {
    "name": "ipython",
    "version": 3
   },
   "file_extension": ".py",
   "mimetype": "text/x-python",
   "name": "python",
   "nbconvert_exporter": "python",
   "pygments_lexer": "ipython3",
   "version": "3.7.3"
  }
 },
 "nbformat": 4,
 "nbformat_minor": 2
}
