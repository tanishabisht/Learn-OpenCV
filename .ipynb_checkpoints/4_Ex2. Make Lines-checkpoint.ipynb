{
 "cells": [
  {
   "cell_type": "markdown",
   "metadata": {},
   "source": [
    "# Exercise 2: Match Lines"
   ]
  },
  {
   "cell_type": "code",
   "execution_count": 1,
   "metadata": {},
   "outputs": [],
   "source": [
    "# importing files\n",
    "import numpy as np\n",
    "import cv2"
   ]
  },
  {
   "cell_type": "code",
   "execution_count": 17,
   "metadata": {},
   "outputs": [],
   "source": [
    "# defining the call back function\n",
    "def click_event(e, x, y, flags, param):\n",
    "    if e == cv2.EVENT_LBUTTONDOWN:\n",
    "        cv2.circle(img, (x,y), 4, (255,255,255), 2)\n",
    "        points.append((x,y))\n",
    "        if len(points) >= 2:\n",
    "            cv2.line(img, points[-2], (x,y), (0,0,255), 2)\n",
    "        cv2.imshow('Make lines', img)"
   ]
  },
  {
   "cell_type": "code",
   "execution_count": 18,
   "metadata": {},
   "outputs": [],
   "source": [
    "# creating an image\n",
    "img = np.zeros([255,255,3], np.uint8)\n",
    "\n",
    "# displaying image in a new window\n",
    "cv2.imshow('Make lines', img)\n",
    "\n",
    "# a variable to store the coordinate points on left click\n",
    "points = []"
   ]
  },
  {
   "cell_type": "code",
   "execution_count": 19,
   "metadata": {},
   "outputs": [],
   "source": [
    "# calling call back function on click of the mouse\n",
    "cv2.setMouseCallback('Make lines', click_event)"
   ]
  },
  {
   "cell_type": "code",
   "execution_count": null,
   "metadata": {},
   "outputs": [],
   "source": [
    "# closing the window after clicking the cross button on top\n",
    "cv2.waitKey(0)\n",
    "cv2.destroyAllWindows()"
   ]
  }
 ],
 "metadata": {
  "kernelspec": {
   "display_name": "Python 3",
   "language": "python",
   "name": "python3"
  },
  "language_info": {
   "codemirror_mode": {
    "name": "ipython",
    "version": 3
   },
   "file_extension": ".py",
   "mimetype": "text/x-python",
   "name": "python",
   "nbconvert_exporter": "python",
   "pygments_lexer": "ipython3",
   "version": "3.7.3"
  }
 },
 "nbformat": 4,
 "nbformat_minor": 2
}
