{
 "cells": [
  {
   "cell_type": "markdown",
   "metadata": {},
   "source": [
    "# Image Pyramids\n",
    "Using this we create images of different resolutions. Its best application is in blending and reconstructing images.\n",
    "\n",
    "**PYRAMID REPRESENTATION** is a multi-scale signal representation in which a signal or image is subject to repeated smoothing and sub-sampling."
   ]
  },
  {
   "cell_type": "code",
   "execution_count": 22,
   "metadata": {},
   "outputs": [],
   "source": [
    "import cv2\n",
    "import numpy as np"
   ]
  },
  {
   "cell_type": "code",
   "execution_count": 5,
   "metadata": {},
   "outputs": [],
   "source": [
    "img = cv2.imread('./Pictures/lena.jpg')"
   ]
  },
  {
   "cell_type": "markdown",
   "metadata": {},
   "source": [
    "## Gaussian Pyramid\n",
    "Filter -> subsampling -> repeat"
   ]
  },
  {
   "cell_type": "code",
   "execution_count": 13,
   "metadata": {},
   "outputs": [],
   "source": [
    "# creating lower res images\n",
    "lr1 = cv2.pyrDown(img)\n",
    "lr2 = cv2.pyrDown(lr1)\n",
    "\n",
    "# creating higher res images\n",
    "hr1 = cv2.pyrUp(lr2)\n",
    "\n",
    "# showing all res images\n",
    "cv2.imshow('Original', img)\n",
    "cv2.imshow('Low res 1', lr1)\n",
    "cv2.imshow('Low res 2', lr2)\n",
    "cv2.imshow('High res of lowest res', hr1)\n",
    "\n",
    "cv2.waitKey(0)\n",
    "cv2.destroyAllWindows()"
   ]
  },
  {
   "cell_type": "code",
   "execution_count": 56,
   "metadata": {},
   "outputs": [],
   "source": [
    "# to copy an image onto another\n",
    "layer = img.copy()\n",
    "gp = [layer]\n",
    "\n",
    "# using for loops\n",
    "for i in range(5):\n",
    "    layer = cv2.pyrDown(layer)\n",
    "    gp.append(layer)\n",
    "    cv2.imshow('pyr down res '+str(i+1), layer)\n",
    "    \n",
    "cv2.waitKey(0)\n",
    "cv2.destroyAllWindows()"
   ]
  },
  {
   "cell_type": "markdown",
   "metadata": {},
   "source": [
    "## Laplacian pyramid\n",
    "Laplacian level = Gaussian level - upper Gaussian level"
   ]
  },
  {
   "cell_type": "code",
   "execution_count": 29,
   "metadata": {},
   "outputs": [],
   "source": [
    "layer = img.copy()\n",
    "gp = [layer]\n",
    "\n",
    "for i in range(5):\n",
    "    layer = cv2.pyrDown(layer)\n",
    "    gp.append(layer)\n",
    "    \n",
    "gaussUpperLayer = gp[-1]\n",
    "cv2.imshow('Upper level Gaussian Pyramid', gaussUpperLayer)\n",
    "lp = [gaussUpperLayer]\n",
    "\n",
    "for i in range(5,0,-1):\n",
    "    gaussian_extended = cv2.pyrUp(gp[i])\n",
    "    laplacian = cv2.subtract(gp[i-1], gaussian_extended)\n",
    "    lp.append(laplacian)\n",
    "    cv2.imshow(str(i), laplacian)\n",
    "    \n",
    "cv2.waitKey(0)\n",
    "cv2.destroyAllWindows()"
   ]
  },
  {
   "cell_type": "markdown",
   "metadata": {},
   "source": [
    "## Image Blending and Reconstructing using pyramids\n",
    "1. Load the two images (say, apple nd orange)\n",
    "2. Find Gaussian pyramids for apple and orange (here, no of levels is 6)\n",
    "3. Find their Laplacian Pyramids\n",
    "4. Join left apple and right orange in each levels of Laplacian Pyramids\n",
    "5. From this joint image pyramids reconstruct the original image"
   ]
  },
  {
   "cell_type": "code",
   "execution_count": 94,
   "metadata": {},
   "outputs": [],
   "source": [
    "# Load the two images\n",
    "apple = cv2.imread('./Pictures/apple.jpg')\n",
    "orange = cv2.imread('./Pictures/orange.jpg')"
   ]
  },
  {
   "cell_type": "code",
   "execution_count": 95,
   "metadata": {},
   "outputs": [],
   "source": [
    "# Find their Gaussian pyramids\n",
    "\n",
    "# Gaussian pyramids for apple\n",
    "apple_copy = apple.copy()\n",
    "gp_apples = [apple_copy]\n",
    "for i in range(6):\n",
    "    apple_copy = cv2.pyrDown(apple_copy)\n",
    "    gp_apples.append(apple_copy)\n",
    "\n",
    "# Gaussian pyramids for apple\n",
    "orange_copy = orange.copy()\n",
    "gp_oranges = [orange_copy]\n",
    "for i in range(6):\n",
    "    orange_copy = cv2.pyrDown(orange_copy)\n",
    "    gp_oranges.append(orange_copy)"
   ]
  },
  {
   "cell_type": "code",
   "execution_count": 96,
   "metadata": {},
   "outputs": [],
   "source": [
    "# Find their Laplacian pyramids from their gaussian pyramids\n",
    "\n",
    "# Laplacian pyramids for apple\n",
    "lp_apples = [gp_apples[5]]\n",
    "for i in range(5,0,-1):\n",
    "    gaussExtended_apple = cv2.pyrUp(gp_apples[i])\n",
    "    laplacian_apple = cv2.subtract(gp_apples[i-1], gaussExtended_apple)\n",
    "    lp_apples.append(laplacian_apple)\n",
    "\n",
    "# Laplacian pyramids for orange\n",
    "lp_oranges = [gp_oranges[5]]\n",
    "for i in range(5,0,-1):    \n",
    "    gaussExtended_orange = cv2.pyrUp(gp_oranges[i])\n",
    "    laplacian_orange = cv2.subtract(gp_oranges[i-1], gaussExtended_orange)\n",
    "    lp_oranges.append(laplacian_orange)"
   ]
  },
  {
   "cell_type": "code",
   "execution_count": 97,
   "metadata": {
    "scrolled": true
   },
   "outputs": [],
   "source": [
    "# Join left apple and right orange in each levels of Laplacian Pyramids\n",
    "apple_orange_pyramid = []\n",
    "for i in range(6):\n",
    "    col, row, ch = lp_apples[i].shape\n",
    "    combine = np.hstack((lp_apples[i][:, 0:int(col/2)], lp_oranges[i][:, int(col/2):]))\n",
    "    apple_orange_pyramid.append(combine)"
   ]
  },
  {
   "cell_type": "code",
   "execution_count": 98,
   "metadata": {},
   "outputs": [],
   "source": [
    "# From this joint image pyramids reconstruct the original image\n",
    "apple_orange_reconstruct = apple_orange_pyramid[0]\n",
    "for i in range(1,6):\n",
    "    apple_orange_reconstruct = cv2.pyrUp(apple_orange_reconstruct)\n",
    "    apple_orange_reconstruct = cv2.add(apple_orange_pyramid[i], apple_orange_reconstruct)"
   ]
  },
  {
   "cell_type": "code",
   "execution_count": 99,
   "metadata": {},
   "outputs": [],
   "source": [
    "cv2.imshow('apple', apple)\n",
    "cv2.imshow('orange', orange)\n",
    "cv2.imshow('apple_orange_reconstructed', apple_orange_reconstruct)\n",
    "\n",
    "cv2.waitKey(0)\n",
    "cv2.destroyAllWindows()"
   ]
  }
 ],
 "metadata": {
  "kernelspec": {
   "display_name": "Python 3",
   "language": "python",
   "name": "python3"
  },
  "language_info": {
   "codemirror_mode": {
    "name": "ipython",
    "version": 3
   },
   "file_extension": ".py",
   "mimetype": "text/x-python",
   "name": "python",
   "nbconvert_exporter": "python",
   "pygments_lexer": "ipython3",
   "version": "3.7.3"
  }
 },
 "nbformat": 4,
 "nbformat_minor": 2
}
