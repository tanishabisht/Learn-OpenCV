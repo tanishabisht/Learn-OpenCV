{
 "cells": [
  {
   "cell_type": "code",
   "execution_count": 2,
   "metadata": {},
   "outputs": [],
   "source": [
    "import cv2"
   ]
  },
  {
   "cell_type": "code",
   "execution_count": 3,
   "metadata": {},
   "outputs": [
    {
     "name": "stdout",
     "output_type": "stream",
     "text": [
      "3.4.6\n"
     ]
    }
   ],
   "source": [
    "print(cv2.__version__)"
   ]
  },
  {
   "cell_type": "markdown",
   "metadata": {},
   "source": [
    "## cv2.imread(filePath, integerFlagValue)\n",
    "- cv2.IMREAD_COLOR=1 ...... Loads a color image\n",
    "- cv2.IMREAD_GRAYSCALE=0 ...... Loads image in grayscale mode\n",
    "- cv2.IMREAD_UNCHANGED=-1 ...... Loads image as such including alpha channel"
   ]
  },
  {
   "cell_type": "code",
   "execution_count": 4,
   "metadata": {},
   "outputs": [],
   "source": [
    "wrongImg = cv2.imread('lena', 0)"
   ]
  },
  {
   "cell_type": "code",
   "execution_count": 5,
   "metadata": {},
   "outputs": [
    {
     "name": "stdout",
     "output_type": "stream",
     "text": [
      "None\n"
     ]
    }
   ],
   "source": [
    "print(wrongImg) #if fileName/flag was entered incorrectly it returns none"
   ]
  },
  {
   "cell_type": "code",
   "execution_count": 13,
   "metadata": {},
   "outputs": [],
   "source": [
    "rightImg = cv2.imread('./Pictures/lena.jpg', 1)"
   ]
  },
  {
   "cell_type": "markdown",
   "metadata": {},
   "source": [
    "# Attributes with image object"
   ]
  },
  {
   "cell_type": "code",
   "execution_count": 14,
   "metadata": {},
   "outputs": [
    {
     "name": "stdout",
     "output_type": "stream",
     "text": [
      "[[[128 138 225]\n",
      "  [127 137 224]\n",
      "  [126 136 224]\n",
      "  ...\n",
      "  [126 145 236]\n",
      "  [110 129 220]\n",
      "  [ 86 104 197]]\n",
      "\n",
      " [[127 137 224]\n",
      "  [127 137 224]\n",
      "  [127 137 224]\n",
      "  ...\n",
      "  [130 150 235]\n",
      "  [112 132 217]\n",
      "  [ 83 102 189]]\n",
      "\n",
      " [[127 137 224]\n",
      "  [127 137 224]\n",
      "  [128 138 225]\n",
      "  ...\n",
      "  [127 148 230]\n",
      "  [112 133 215]\n",
      "  [ 85 105 190]]\n",
      "\n",
      " ...\n",
      "\n",
      " [[ 55  21  82]\n",
      "  [ 54  20  81]\n",
      "  [ 62  28  92]\n",
      "  ...\n",
      "  [ 82  71 175]\n",
      "  [ 78  68 175]\n",
      "  [ 74  65 175]]\n",
      "\n",
      " [[ 55  18  80]\n",
      "  [ 56  19  81]\n",
      "  [ 66  32  96]\n",
      "  ...\n",
      "  [ 82  69 177]\n",
      "  [ 80  71 181]\n",
      "  [ 81  72 183]]\n",
      "\n",
      " [[ 56  19  81]\n",
      "  [ 58  21  83]\n",
      "  [ 68  34  98]\n",
      "  ...\n",
      "  [ 81  68 176]\n",
      "  [ 81  72 183]\n",
      "  [ 84  74 188]]]\n"
     ]
    }
   ],
   "source": [
    "print(rightImg) #else returns a matrix as shown"
   ]
  },
  {
   "cell_type": "code",
   "execution_count": 15,
   "metadata": {},
   "outputs": [
    {
     "name": "stdout",
     "output_type": "stream",
     "text": [
      "(512, 512, 3)\n"
     ]
    }
   ],
   "source": [
    "# returns a tuple of number of rows, columns and channels\n",
    "print(rightImg.shape)"
   ]
  },
  {
   "cell_type": "code",
   "execution_count": 16,
   "metadata": {},
   "outputs": [
    {
     "name": "stdout",
     "output_type": "stream",
     "text": [
      "786432\n"
     ]
    }
   ],
   "source": [
    "# returns total number of pixels accessed\n",
    "print(rightImg.size)"
   ]
  },
  {
   "cell_type": "code",
   "execution_count": 17,
   "metadata": {},
   "outputs": [
    {
     "name": "stdout",
     "output_type": "stream",
     "text": [
      "uint8\n"
     ]
    }
   ],
   "source": [
    "# returns image datatype\n",
    "print(rightImg.dtype)"
   ]
  },
  {
   "cell_type": "code",
   "execution_count": 20,
   "metadata": {},
   "outputs": [
    {
     "name": "stdout",
     "output_type": "stream",
     "text": [
      "[[128 127 126 ... 126 110  86]\n",
      " [127 127 127 ... 130 112  83]\n",
      " [127 127 128 ... 127 112  85]\n",
      " ...\n",
      " [ 55  54  62 ...  82  78  74]\n",
      " [ 55  56  66 ...  82  80  81]\n",
      " [ 56  58  68 ...  81  81  84]] [[138 137 136 ... 145 129 104]\n",
      " [137 137 137 ... 150 132 102]\n",
      " [137 137 138 ... 148 133 105]\n",
      " ...\n",
      " [ 21  20  28 ...  71  68  65]\n",
      " [ 18  19  32 ...  69  71  72]\n",
      " [ 19  21  34 ...  68  72  74]] [[225 224 224 ... 236 220 197]\n",
      " [224 224 224 ... 235 217 189]\n",
      " [224 224 225 ... 230 215 190]\n",
      " ...\n",
      " [ 82  81  92 ... 175 175 175]\n",
      " [ 80  81  96 ... 177 181 183]\n",
      " [ 81  83  98 ... 176 183 188]]\n"
     ]
    }
   ],
   "source": [
    "# splits the image into the b g r channel\n",
    "b,g,r = cv2.split(rightImg)\n",
    "print(b, g, r)"
   ]
  },
  {
   "cell_type": "code",
   "execution_count": 22,
   "metadata": {},
   "outputs": [
    {
     "name": "stdout",
     "output_type": "stream",
     "text": [
      "[[[128 138 225]\n",
      "  [127 137 224]\n",
      "  [126 136 224]\n",
      "  ...\n",
      "  [126 145 236]\n",
      "  [110 129 220]\n",
      "  [ 86 104 197]]\n",
      "\n",
      " [[127 137 224]\n",
      "  [127 137 224]\n",
      "  [127 137 224]\n",
      "  ...\n",
      "  [130 150 235]\n",
      "  [112 132 217]\n",
      "  [ 83 102 189]]\n",
      "\n",
      " [[127 137 224]\n",
      "  [127 137 224]\n",
      "  [128 138 225]\n",
      "  ...\n",
      "  [127 148 230]\n",
      "  [112 133 215]\n",
      "  [ 85 105 190]]\n",
      "\n",
      " ...\n",
      "\n",
      " [[ 55  21  82]\n",
      "  [ 54  20  81]\n",
      "  [ 62  28  92]\n",
      "  ...\n",
      "  [ 82  71 175]\n",
      "  [ 78  68 175]\n",
      "  [ 74  65 175]]\n",
      "\n",
      " [[ 55  18  80]\n",
      "  [ 56  19  81]\n",
      "  [ 66  32  96]\n",
      "  ...\n",
      "  [ 82  69 177]\n",
      "  [ 80  71 181]\n",
      "  [ 81  72 183]]\n",
      "\n",
      " [[ 56  19  81]\n",
      "  [ 58  21  83]\n",
      "  [ 68  34  98]\n",
      "  ...\n",
      "  [ 81  68 176]\n",
      "  [ 81  72 183]\n",
      "  [ 84  74 188]]]\n"
     ]
    }
   ],
   "source": [
    "# convert a bgr channel to an image\n",
    "newImg = cv2.merge((b,g,r))\n",
    "print(newImg)"
   ]
  },
  {
   "cell_type": "markdown",
   "metadata": {},
   "source": [
    "## cv2.imshow(windowName, imgName)"
   ]
  },
  {
   "cell_type": "code",
   "execution_count": 8,
   "metadata": {},
   "outputs": [],
   "source": [
    "cv2.imshow('windowName2', rightImg)\n",
    "cv2.waitKey(0)\n",
    "cv2.destroyAllWindows()"
   ]
  },
  {
   "cell_type": "markdown",
   "metadata": {},
   "source": [
    "## cv2.imwrite(fileName, imgName)"
   ]
  },
  {
   "cell_type": "code",
   "execution_count": 9,
   "metadata": {},
   "outputs": [
    {
     "data": {
      "text/plain": [
       "True"
      ]
     },
     "execution_count": 9,
     "metadata": {},
     "output_type": "execute_result"
    }
   ],
   "source": [
    "cv2.imwrite('./Pictures/lena_copy.jpg', rightImg)"
   ]
  }
 ],
 "metadata": {
  "kernelspec": {
   "display_name": "Python 3",
   "language": "python",
   "name": "python3"
  },
  "language_info": {
   "codemirror_mode": {
    "name": "ipython",
    "version": 3
   },
   "file_extension": ".py",
   "mimetype": "text/x-python",
   "name": "python",
   "nbconvert_exporter": "python",
   "pygments_lexer": "ipython3",
   "version": "3.7.3"
  }
 },
 "nbformat": 4,
 "nbformat_minor": 2
}
