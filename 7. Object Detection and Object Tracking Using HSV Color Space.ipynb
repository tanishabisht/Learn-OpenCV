{
 "cells": [
  {
   "cell_type": "markdown",
   "metadata": {},
   "source": [
    "# Detecting particular color image"
   ]
  },
  {
   "cell_type": "code",
   "execution_count": 1,
   "metadata": {},
   "outputs": [],
   "source": [
    "import cv2\n",
    "import numpy as np"
   ]
  },
  {
   "cell_type": "code",
   "execution_count": 2,
   "metadata": {},
   "outputs": [],
   "source": [
    "def nothing(x):\n",
    "    pass"
   ]
  },
  {
   "cell_type": "markdown",
   "metadata": {},
   "source": [
    "## In a picture"
   ]
  },
  {
   "cell_type": "code",
   "execution_count": 3,
   "metadata": {},
   "outputs": [],
   "source": [
    "# use trackbar to find the lower and upper bound of the color\n",
    "\n",
    "cv2.namedWindow('tracking')\n",
    "\n",
    "cv2.createTrackbar('LH', 'tracking', 0, 255, nothing)\n",
    "cv2.createTrackbar('LS', 'tracking', 0, 255, nothing)\n",
    "cv2.createTrackbar('LV', 'tracking', 0, 255, nothing)\n",
    "cv2.createTrackbar('UH', 'tracking', 255, 255, nothing)\n",
    "cv2.createTrackbar('US', 'tracking', 255, 255, nothing)\n",
    "cv2.createTrackbar('UV', 'tracking', 255, 255, nothing)   \n",
    "\n",
    "while True:\n",
    "    img = cv2.imread('./Pictures/smarties.png')\n",
    "    hsv = cv2.cvtColor(img, cv2.COLOR_BGR2HSV)\n",
    "    \n",
    "    # getting values from trackbar    \n",
    "    lh = cv2.getTrackbarPos('LH', 'tracking')\n",
    "    ls = cv2.getTrackbarPos('LS', 'tracking')\n",
    "    lv = cv2.getTrackbarPos('LV', 'tracking')    \n",
    "    uh = cv2.getTrackbarPos('UH', 'tracking')\n",
    "    us = cv2.getTrackbarPos('US', 'tracking')\n",
    "    uv = cv2.getTrackbarPos('UV', 'tracking')\n",
    "    \n",
    "    # defining the lower and upper range of blue color\n",
    "    lb = np.array([lh,ls,lv])\n",
    "    ub = np.array([uh,us,uv])\n",
    "    \n",
    "    # create a mask of the hsv image to just get the blue color\n",
    "    mask = cv2.inRange(hsv, lb, ub)\n",
    "    \n",
    "    # apply mask on the original image\n",
    "    blueImg = cv2.bitwise_and(img, img, mask=mask)\n",
    "    \n",
    "    cv2.imshow('original', img)\n",
    "    cv2.imshow('mask', mask)\n",
    "    cv2.imshow('masked image', blueImg)\n",
    "    \n",
    "    key = cv2.waitKey(1)\n",
    "    if key == 27:\n",
    "        break\n",
    "\n",
    "cv2.destroyAllWindows()"
   ]
  },
  {
   "cell_type": "markdown",
   "metadata": {},
   "source": [
    "## In a video"
   ]
  },
  {
   "cell_type": "code",
   "execution_count": 4,
   "metadata": {},
   "outputs": [],
   "source": [
    "cap = cv2.VideoCapture(0)\n",
    "\n",
    "# use trackbar to find the lower and upper bound of the color\n",
    "cv2.namedWindow('tracking')\n",
    "\n",
    "cv2.createTrackbar('LH', 'tracking', 0, 255, nothing)\n",
    "cv2.createTrackbar('LS', 'tracking', 0, 255, nothing)\n",
    "cv2.createTrackbar('LV', 'tracking', 0, 255, nothing)\n",
    "cv2.createTrackbar('UH', 'tracking', 255, 255, nothing)\n",
    "cv2.createTrackbar('US', 'tracking', 255, 255, nothing)\n",
    "cv2.createTrackbar('UV', 'tracking', 255, 255, nothing)   \n",
    "\n",
    "while True:\n",
    "    _, frame = cap.read()\n",
    "    hsv = cv2.cvtColor(frame, cv2.COLOR_BGR2HSV)\n",
    "    \n",
    "    # getting values from trackbar    \n",
    "    lh = cv2.getTrackbarPos('LH', 'tracking')\n",
    "    ls = cv2.getTrackbarPos('LS', 'tracking')\n",
    "    lv = cv2.getTrackbarPos('LV', 'tracking')    \n",
    "    uh = cv2.getTrackbarPos('UH', 'tracking')\n",
    "    us = cv2.getTrackbarPos('US', 'tracking')\n",
    "    uv = cv2.getTrackbarPos('UV', 'tracking')\n",
    "    \n",
    "    # defining the lower and upper range of blue color\n",
    "    lb = np.array([lh,ls,lv])\n",
    "    ub = np.array([uh,us,uv])\n",
    "    \n",
    "    # create a mask of the hsv image to just get the blue color\n",
    "    mask = cv2.inRange(hsv, lb, ub)\n",
    "    \n",
    "    # apply mask on the original image\n",
    "    maskedImg = cv2.bitwise_and(frame, frame, mask=mask)\n",
    "    \n",
    "    cv2.imshow('original', frame)\n",
    "    cv2.imshow('mask', mask)\n",
    "    cv2.imshow('masked image', maskedImg)\n",
    "    \n",
    "    key = cv2.waitKey(1)\n",
    "    if key == 27:\n",
    "        break\n",
    "\n",
    "cap.release()\n",
    "cv2.destroyAllWindows()"
   ]
  }
 ],
 "metadata": {
  "kernelspec": {
   "display_name": "Python 3",
   "language": "python",
   "name": "python3"
  },
  "language_info": {
   "codemirror_mode": {
    "name": "ipython",
    "version": 3
   },
   "file_extension": ".py",
   "mimetype": "text/x-python",
   "name": "python",
   "nbconvert_exporter": "python",
   "pygments_lexer": "ipython3",
   "version": "3.7.3"
  }
 },
 "nbformat": 4,
 "nbformat_minor": 2
}
