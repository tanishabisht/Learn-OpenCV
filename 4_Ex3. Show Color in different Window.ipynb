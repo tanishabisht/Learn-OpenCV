{
 "cells": [
  {
   "cell_type": "markdown",
   "metadata": {},
   "source": [
    "# Exercise 3: Color Picker"
   ]
  },
  {
   "cell_type": "code",
   "execution_count": 27,
   "metadata": {},
   "outputs": [],
   "source": [
    "import cv2\n",
    "import numpy as np"
   ]
  },
  {
   "cell_type": "code",
   "execution_count": 28,
   "metadata": {},
   "outputs": [],
   "source": [
    "def click_event(e, x, y, flags, param):\n",
    "    if e == cv2.EVENT_LBUTTONDOWN:\n",
    "        b = img[x,y,0]\n",
    "        g = img[x,y,1]\n",
    "        r = img[x,y,2]\n",
    "        cv2.circle(img, (x,y), 3, (0,0,255), -1)\n",
    "        myColorImg = np.zeros((512,512,3), np.uint8)\n",
    "        myColorImg[:] = [b,g,r]\n",
    "        cv2.imshow('color', myColorImg)"
   ]
  },
  {
   "cell_type": "code",
   "execution_count": 30,
   "metadata": {},
   "outputs": [],
   "source": [
    "img = cv2.imread('./Pictures/lena.jpg', 1)\n",
    "cv2.imshow('color Picker', img)\n",
    "cv2.setMouseCallback('color Picker', click_event)\n",
    "\n",
    "cv2.waitKey(0)\n",
    "cv2.destroyAllWindows()"
   ]
  }
 ],
 "metadata": {
  "kernelspec": {
   "display_name": "Python 3",
   "language": "python",
   "name": "python3"
  },
  "language_info": {
   "codemirror_mode": {
    "name": "ipython",
    "version": 3
   },
   "file_extension": ".py",
   "mimetype": "text/x-python",
   "name": "python",
   "nbconvert_exporter": "python",
   "pygments_lexer": "ipython3",
   "version": "3.7.3"
  }
 },
 "nbformat": 4,
 "nbformat_minor": 2
}
